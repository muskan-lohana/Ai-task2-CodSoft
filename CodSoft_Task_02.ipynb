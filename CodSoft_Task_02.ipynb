{
  "nbformat": 4,
  "nbformat_minor": 0,
  "metadata": {
    "colab": {
      "provenance": []
    },
    "kernelspec": {
      "name": "python3",
      "display_name": "Python 3"
    },
    "language_info": {
      "name": "python"
    }
  },
  "cells": [
    {
      "cell_type": "code",
      "execution_count": 5,
      "metadata": {
        "colab": {
          "base_uri": "https://localhost:8080/"
        },
        "id": "swtP1Mhf4PLP",
        "outputId": "835f4aeb-c776-4f5e-bf97-d1a6544f0d52"
      },
      "outputs": [
        {
          "output_type": "stream",
          "name": "stdout",
          "text": [
            "Tic-Tac-Toe - Player vs. AI\n",
            "  |   |  \n",
            "---------\n",
            "  |   |  \n",
            "---------\n",
            "  |   |  \n",
            "---------\n",
            "Enter your move (row col): 1 1\n",
            "  |   |  \n",
            "---------\n",
            "  | X |  \n",
            "---------\n",
            "  |   |  \n",
            "---------\n",
            "  |   |  \n",
            "---------\n",
            "  | X |  \n",
            "---------\n",
            "  |   | O\n",
            "---------\n",
            "Enter your move (row col): 0 2\n",
            "  |   | X\n",
            "---------\n",
            "  | X |  \n",
            "---------\n",
            "  |   | O\n",
            "---------\n",
            "  |   | X\n",
            "---------\n",
            "O | X |  \n",
            "---------\n",
            "  |   | O\n",
            "---------\n",
            "Enter your move (row col): 2 0\n",
            "  |   | X\n",
            "---------\n",
            "O | X |  \n",
            "---------\n",
            "X |   | O\n",
            "---------\n",
            "Player wins!\n"
          ]
        }
      ],
      "source": [
        "import random\n",
        "\n",
        "# Function to print the Tic-Tac-Toe board\n",
        "def print_board(board):\n",
        "    for row in board:\n",
        "        print(\" | \".join(row))\n",
        "        print(\"-\" * 9)\n",
        "\n",
        "# Function to check if the game is over\n",
        "def is_game_over(board):\n",
        "    for row in board:\n",
        "        if row.count(row[0]) == 3 and row[0] != ' ':\n",
        "            return True\n",
        "    for col in range(3):\n",
        "        check = [board[row][col] for row in range(3)]\n",
        "        if check.count(check[0]) == 3 and check[0] != ' ':\n",
        "            return True\n",
        "    if board[0][0] == board[1][1] == board[2][2] != ' ':\n",
        "        return True\n",
        "    if board[0][2] == board[1][1] == board[2][0] != ' ':\n",
        "        return True\n",
        "    return False\n",
        "\n",
        "# Function for the AI's random move\n",
        "def ai_random_move(board):\n",
        "    empty_cells = [(row, col) for row in range(3) for col in range(3) if board[row][col] == ' ']\n",
        "    if empty_cells:\n",
        "        return random.choice(empty_cells)\n",
        "    else:\n",
        "        return None\n",
        "\n",
        "# Main game loop\n",
        "board = [[' ' for _ in range(3)] for _ in range(3)]  # Corrected this line\n",
        "player_turn = True  # True for player, False for AI\n",
        "\n",
        "print(\"Tic-Tac-Toe - Player vs. AI\")\n",
        "\n",
        "while not is_game_over(board):\n",
        "    print_board(board)\n",
        "    if player_turn:\n",
        "        row, col = map(int, input(\"Enter your move (row col): \").split())\n",
        "    else:\n",
        "        row, col = ai_random_move(board)\n",
        "\n",
        "    if board[row][col] == ' ':\n",
        "        if player_turn:\n",
        "            board[row][col] = 'X'\n",
        "        else:\n",
        "            board[row][col] = 'O'\n",
        "        player_turn = not player_turn\n",
        "    else:\n",
        "        print(\"Invalid move. Try again.\")\n",
        "\n",
        "print_board(board)\n",
        "if is_game_over(board):\n",
        "    if player_turn:\n",
        "        print(\"AI wins!\")\n",
        "    else:\n",
        "        print(\"Player wins!\")\n",
        "else:\n",
        "    print(\"It's a draw!\")\n"
      ]
    },
    {
      "cell_type": "code",
      "source": [],
      "metadata": {
        "id": "EN4gtdmc4P7s"
      },
      "execution_count": null,
      "outputs": []
    }
  ]
}